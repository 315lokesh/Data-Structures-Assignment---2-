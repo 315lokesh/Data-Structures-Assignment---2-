{
  "nbformat": 4,
  "nbformat_minor": 0,
  "metadata": {
    "colab": {
      "provenance": []
    },
    "kernelspec": {
      "name": "python3",
      "display_name": "Python 3"
    },
    "language_info": {
      "name": "python"
    }
  },
  "cells": [
    {
      "cell_type": "markdown",
      "source": [
        " Que:1.What are data structures, and why are they important?\n",
        "\n",
        "  Ans:- Data structures are specialized formats for organizing, storing, and    \n",
        "        accessing collections of data.\n",
        "         They provide efficient ways to manage information based on its characteristics and intended use.\n",
        "        Think of them as containers that hold your data and determine how you can interact with it. Different containers are better suited for different types of items.\n",
        "\n",
        "          Why data structures, important..\n",
        "**bold text**                   \n",
        "        Now we understand step - by - step=\n",
        "\n",
        "**Efficiency**: Data structures are designed to optimize the performance of algorithms and programs.\n",
        "\n",
        "**Readability and Maintainability**: Well-structured data makes code easier to understand, debug, and maintain.\n",
        "\n",
        "**Problem-Solving:** Data structures are essential for solving a wide range of computational problems.\n",
        "\n",
        "**Foundation for Algorithms **bold text**: Many algorithms rely on specific data structures to function correctly.\n",
        "\n",
        "**Real-World Applications:** Data structures are used in various real-world applications, such as databases, social networks, search engines, and operating systems.\n"
      ],
      "metadata": {
        "id": "_UTf2vI-voYk"
      }
    },
    {
      "cell_type": "markdown",
      "source": [
        "**Que:2.** Explain the difference between mutable and immutable data types with examples.\n",
        "\n",
        "**Ans:** Mutable data type allow there value to be modified and after creation,While immutable data type can not be change once created.\n",
        "\n",
        "**Mutable Data Types:**\n",
        "Lists, dictonaries, sets,\n",
        "\n",
        "For example:-\n",
        "\n",
        "- **List**:- Lists are ordered collections of items that can be changed. You can add, remove, or modify elements after the list is created.\n",
        "              my_list =\n",
        "        my_list.append(4)  # Add an element\n",
        "        my_list = 0    # Modify an element\n",
        "        print(my_list)  # Output:\n",
        "\n",
        "For example:-\n",
        "\n",
        "**Dictionaries**: Dictionaries store data in key-value pairs, and their contents can be changed.\n",
        "\n",
        "For example:-\n",
        "\n",
        "                  my_dict = {\"name\": \"Alice\", \"age\": 30}\n",
        "        my_dict[\"age\"] = 31    # Modify an existing value\n",
        "        my_dict[\"city\"] = \"Bangalore\" # Add a new key-value pair\n",
        "        print(my_dict)  # Output: {'name': 'Alice', 'age': 31, 'city': 'Bangalore'}\n",
        "\n",
        "**Sets** :- Sets are unordered collections of unique items. Elements can be added or removed after the set is created, according to Dataquest.\n",
        "\n",
        "For example:-\n",
        "\n",
        "                          my_set = {1, 2, 3}\n",
        "        my_set.add(4)  # Add an element\n",
        "        my_set.remove(2)  # Remove an element\n",
        "        print(my_set)  # Output: {1, 3, 4}\n",
        "\n",
        "**Immutable Data Types:-**\n",
        "Strings, Tuples, Numbers (int, float, complex)\n",
        "\n",
        "- **Strings**: Strings are sequences of characters and cannot be modified after creationIf you try to change a string, you'll get a new string with the modification.\n",
        "\n",
        "For example:-\n",
        "\n",
        "                    my_string = \"hello\"\n",
        "        # my_string = \"j\"  # This will raise an error\n",
        "        new_string = my_string + \" world\"  # Creating a new string\n",
        "        print(new_string)  # Output: hello world\n",
        "\n",
        "  **Tuples**: Tuples are ordered collections of items, but unlike lists, they cannot be modified after creation,\n",
        "\n",
        "For example:-\n",
        "\n",
        "                    my_tuple = (1, 2, 3)\n",
        "        # my_tuple = 0  # This will raise an error\n",
        "        new_tuple = my_tuple + (4,)  # Creating a new tuple\n",
        "        print(new_tuple)  # Output: (1, 2, 3, 4)\n",
        "\n",
        "  **Numbers (int, float, complex):** Numbers are fundamental data types that cannot be changed once created, as explained in the Python documentation.\n",
        "\n",
        "For example:-\n",
        "\n",
        "                      my_int = 5\n",
        "        # my_int = 6  # This creates a new integer, not modifies the old one\n",
        "        new_int = my_int + 1\n",
        "        print(new_int)  # Output: 6\n",
        "\n",
        "\n",
        "\n",
        "\n"
      ],
      "metadata": {
        "id": "RDPAlo05yac9"
      }
    },
    {
      "cell_type": "markdown",
      "source": [
        "**Que:3**. What are the main differences between lists and tuples in Python3\n",
        "\n",
        "**Ans:-** lists and tuples both store collections of data, but differ in mutability, performance and memory usage. Lists are mutable, allowing modifications, while tuples are immutable. Choosing between them depends on whether you need to modify the data or prioritize performance and memory efficiency.\n",
        "\n",
        "**Key Differences between List and Tuple**:-\n",
        "\n",
        "**  List:**\n",
        "\n",
        "    - Lists are mutable(can be modified).\n",
        "    - Iteration over lists is time-consuming.\n",
        "    - Lists are better for performing operations, such as insertion and deletion.\n",
        "    - Lists consume more memory.\n",
        "    - Lists have several built-in methods.\n",
        "\n",
        "  **Tuple:**-\n",
        "\n",
        "    - Tuples are immutable(cannot be modified).\n",
        "    - Iterations over tuple is faster\n",
        "    - Tuples are more suitable for accessing elements efficiently.\n",
        "    - Tuples consumes less memory\n",
        "    - Tuples have fewer built-in methods.\n",
        "\n",
        "  \n",
        "\n"
      ],
      "metadata": {
        "id": "-3FqEqTU3ne_"
      }
    },
    {
      "cell_type": "markdown",
      "source": [
        "**Que:4.** Describe how dictionaries store data.\n",
        "\n",
        "**Ans:-** A Python dictionary is a data structure that stores the value in key: value pairs. Values in a dictionary can be of any data type and can be duplicated, whereas keys can’t be repeated and must be immutable.\n",
        "\n",
        "**Example**: Here, The data is stored in key:value pairs in dictionaries, which makes it easier to find values.\n",
        "\n",
        "How to Create a Dictionary\n",
        "In Python, a dictionary can be created by placing a sequence of elements within curly {} braces, separated by a ‘comma’.\n",
        "\n",
        "        # create dictionary using { }\n",
        "      d1 = {1: 'Geeks', 2: 'For', 3: 'Geeks'}\n",
        "          print(d1)\n",
        "\n",
        "      # create dictionary using dict() constructor\n",
        "      d2 = dict(a = \"Geeks\", b = \"for\", c = \"Geeks\")\n",
        "        print(d2)\n",
        "Output:-\n",
        "\n",
        "    {1: 'Geeks', 2: 'For', 3: 'Geeks'}\n",
        "    {'a': 'Geeks', 'b': 'for', 'c': 'Geeks'}\n"
      ],
      "metadata": {
        "id": "qfIYBba47lJQ"
      }
    },
    {
      "cell_type": "markdown",
      "source": [
        "**Que:5.** Why might you use a set instead of a list in Python?\n",
        "\n",
        "**Ans:-**  Sets and lists serve different purposes in Python, making one more suitable than the other depending on the situation. Here's why you might choose a set over a list:\n",
        "\n",
        "**Uniqueness:**\n",
        "\n",
        "Sets, by definition, do not allow duplicate elements. If ensuring uniqueness is a priority, using a set automatically handles this constraint. Lists, on the other hand, allow duplicate values.\n",
        "\n",
        "**Membership Testing:**\n",
        "\n",
        "Checking if an element exists within a set is significantly faster than doing the same in a list, especially for large collections. Sets use a hash-based implementation, providing near-constant time complexity for membership tests (O(1) on average), while lists require linear search (O(n)).\n",
        "\n",
        "**Set Operations:**\n",
        "\n",
        "Sets support mathematical set operations like union, intersection, and difference, which are not directly available for lists. If your task involves these operations, sets offer a more concise and efficient approach.\n",
        "Order Irrelevance:\n",
        "\n",
        "**Sets are unordered collections.**\n",
        "\n",
        "If the order of elements is not important, using a set can be more efficient as it doesn't maintain insertion order like lists do.\n",
        "\n",
        "**In summary**, choose a set when you need to ensure uniqueness, perform fast membership tests, utilize set operations, or when element order is not relevant. Lists are more appropriate when you need to maintain element order or allow duplicate values.\n"
      ],
      "metadata": {
        "id": "iyet9_wl_yhH"
      }
    },
    {
      "cell_type": "markdown",
      "source": [
        "Que:6. What is a string in Python, and how is it different from a list?\n",
        "\n",
        "**Ans:-** - Strings in Python are sequences of characters enclosed in quotes ('' or “”). Lists are ordered collections of items enclosed in square brackets [].  \n",
        "\n",
        "**The key differences between strings and lists in Python are:**\n",
        "\n",
        " - **Mutability**:\n",
        "Strings are immutable, while lists are mutable. This means that you can modify a list by adding, removing, or changing elements, but you cannot modify a string after it has been created.\n",
        "Data Type: Strings are specifically designed for text data, while lists can store collections of any data type.\n",
        "\n",
        "  **Syntax**: Strings are defined using quotes, while lists are defined using square brackets.\n",
        "\n",
        "  **Operations**: Strings support operations like slicing, concatenation, and formatting, while lists support operations like appending, inserting, and removing elements.\n",
        "\n"
      ],
      "metadata": {
        "id": "-V8PS8t6BkkT"
      }
    },
    {
      "cell_type": "markdown",
      "source": [
        "**Que:7.** How do tuples ensure data integrity in Python?\n",
        "\n",
        "**Ans:-** Tuples in Python ensure data integrity through their immutability. Once a tuple is created, its contents cannot be modified, which means elements cannot be added, removed, or changed. This characteristic is crucial for maintaining the consistency and reliability of data, especially in scenarios where data should remain constant throughout the program's execution. By preventing accidental or unintended modifications, tuples safeguard data integrity and ensure that the data remains in its original state.\n"
      ],
      "metadata": {
        "id": "WWQXcK3hH1n4"
      }
    },
    {
      "cell_type": "markdown",
      "source": [
        "**Que:8.** What is a hash table, and how does it relate to dictionaries in Python?\n",
        "\n",
        "**Ans:-** A hash table is a data structure that allows fast data access using a key-value pair mechanism. It uses a hash function to convert keys into indexes of an array where the corresponding values are stored.\n",
        "\n",
        "**  Key Concepts of Hash Table:**\n",
        "\n",
        "- Key: Unique identifier for the value.\n",
        "\n",
        "- Value: The data associated with the key.\n",
        "\n",
        "- Hash Function: Converts the key into an index (usually an integer).\n",
        "\n",
        "- Collision: When two keys hash to the same index. Resolved by techniques like chaining or open addressing.\n",
        "\n",
        " **it relates to Dictionaries in Python:**\n",
        "\n",
        "- A dictionary (dict) is an implementation of a hash table.\n",
        "\n",
        "- When you write my_dict[\"name\"] = \"Alice\", Python:\n",
        "\n",
        "- Calculates the hash of \"name\" using hash(\"name\").\n",
        "\n",
        "- Maps it to an index in an internal array.\n",
        "\n",
        "- Stores \"Alice\" at that index."
      ],
      "metadata": {
        "id": "z4zT6CmXIy2P"
      }
    },
    {
      "cell_type": "markdown",
      "source": [
        "**Que:9** Can lists contain different data types in Python?\n",
        "\n",
        "**Ans:-** Yes, lists in Python can contain elements of different data types. This is one of the features that makes Python lists very flexible. A single list can hold integers, strings, floats, booleans, and even other lists or data structures.\n",
        "\n",
        "         my_list = [1, \"hello\", 3.14, True, [1, 2, 3]]\n",
        "          print(my_list)  # Output: [1, \"hello\", 3.14, True, [1, 2, 3]]\n"
      ],
      "metadata": {
        "id": "CbvfR9emEWtd"
      }
    },
    {
      "cell_type": "markdown",
      "source": [
        "**Que:10.** Explain why strings are immutable in Python?\n",
        "\n",
        "**Ans:-** In Python, strings are immutable because of several key advantages related to efficiency, safety, and design principles. Immutability ensures that once a string is created, its value remains constant throughout its existence.\n",
        "\n",
        "1. Strings are immutable for safety and consistency\n",
        "Python uses strings heavily for things like:\n",
        "\n",
        "- Variable names\n",
        "\n",
        "- Keys in dictionaries\n",
        "\n",
        "- File paths, URLs, etc.\n",
        "\n",
        "If strings could be changed after creation, it would be hard to track or debug issues — especially if a string used as a dictionary key was accidentally changed.\n",
        "\n",
        "      my_dict = {\"hello\": \"world\"}\n",
        "      key = \"hello\"\n",
        "      # If we change key[0] = 'H', dictionary lookup will break\n",
        "\n",
        "2. Performance Optimization\n",
        "\n",
        "Because strings are immutable, Python can safely reuse and share them in memory.\n",
        "\n",
        "This is known as string interning, which saves memory and speeds up execution.\n",
        "\n",
        "Example:\n",
        "\n",
        "      a = \"hello\"\n",
        "      b = \"hello\"\n",
        "        print(a is b)  \n",
        "      # True — both point to the same string object in memory\n",
        "\n",
        "3. Functional Programming Friendly\n",
        "Immutability is a core idea in functional programming. It avoids side effects and makes code easier to reason about.\n",
        "\n",
        "Python supports both object-oriented and functional styles, and immutable strings help write pure functions.\n",
        "\n",
        "**when you “modify” a string?**\n",
        "\n",
        "          s = \"hello\"\n",
        "          s = s + \" world\"\n",
        "          print(s)\n",
        "\n",
        "\n",
        "\n",
        "\n",
        "\n",
        "\n",
        "\n",
        "\n"
      ],
      "metadata": {
        "id": "EO_Wh-phNdzY"
      }
    },
    {
      "cell_type": "markdown",
      "source": [
        "**Que:11.** What advantages do dictionaries offer over lists for certain tasks?\n",
        "\n",
        "Ans:-  1. Fast Lookup by Key\n",
        "Dictionary: Very fast to look up values using keys (constant time O(1) on average).\n",
        "\n",
        "List: You must search by index or scan through all elements if you're looking for a value (linear time O(n)).\n",
        "\n",
        "        students = {\"101\": \"Amit\", \"102\": \"Neha\"}\n",
        "        print(students[\"101\"])  # Fast and direct\n",
        "\n",
        "        # With list\n",
        "        students_list = [(\"101\", \"Amit\"), (\"102\", \"Neha\")]\n",
        "\n",
        "2. Key-Value Pair Structure\n",
        "\n",
        "  Dictionaries allow you to associate labels (keys) with values, making your data more meaningful and easier to understand.\n",
        "\n",
        "        person = {\"name\": \"Ravi\", \"age\": 25, \"city\": \"Delhi\"}\n",
        "        person = [\"Ravi\", 25, \"Delhi\"]\n",
        "\n",
        "3. Avoid Duplicates with Unique Keys\n",
        "\n",
        "  Dictionary keys are unique, which prevents duplicate entries. This is useful when you want each item to have only one value.\n",
        "\n",
        "        votes = {\"Alice\": 3, \"Bob\": 2}\n",
        "        votes[\"Alice\"] += 1  # Update easily\n",
        "\n",
        "4. Easy to Update or Modify Data\n",
        "\n",
        "Updating a value in a dictionary is simple and efficient.\n",
        "\n",
        "          inventory = {\"apple\": 10, \"banana\": 5}\n",
        "          inventory[\"apple\"] = 15  # Modify directly\n"
      ],
      "metadata": {
        "id": "Xc9jDob2ZJcP"
      }
    },
    {
      "cell_type": "markdown",
      "source": [
        "**Que:12.** Describe a scenario where using a tuple would be preferable over a list\n",
        "\n",
        "Ans:- When to Use a Tuple Instead of a List\n",
        "      Scenario: Fixed, Unchanging Data.\n",
        "\n",
        "**Tuple is better here:**\n",
        "- Immutability (Unchangeable)\n",
        "\n",
        "- Coordinates shouldn’t accidentally change — tuples protect your data from being modified.\n",
        "\n",
        "- A list can be modified; a tuple cannot.\n",
        "\n",
        "- Performance\n",
        "\n",
        "- Tuples are faster and take less memory than lists, especially for fixed-size data.\n",
        "\n",
        "**Use a tuple when:**\n",
        "\n",
        "- The data is fixed and shouldn't change\n",
        "\n",
        "- You want better performance\n",
        "\n",
        "- You need to use the object as a dictionary key\n",
        "\n",
        "- You're returning multiple values from a function\n",
        "\n",
        "\n",
        "\n"
      ],
      "metadata": {
        "id": "McwMITrNr_pa"
      }
    },
    {
      "cell_type": "markdown",
      "source": [
        "**Que:13.** How do sets handle duplicate values in Python?\n",
        "\n",
        "**Ans:-**A set is a collection of unique, unordered elements in Python.\n",
        "        \n",
        "          my_set = {1, 2, 3}\n",
        "\n",
        "In Python, sets are designed to store only unique elements. When an attempt is made to add a duplicate value to a set, the set automatically discards the duplicate, ensuring that it contains only distinct elements.\n",
        "\n",
        "**Sets Handle Duplicates**\n",
        "Sets automatically remove duplicate values.\n",
        "\n",
        "Exp:-\n",
        "\n",
        "           numbers = {1, 2, 2, 3, 3, 3}\n",
        "            print(numbers)\n",
        "\n",
        "            #Output:-  {1, 2, 3}\n",
        "\n",
        "**Why is this useful?**\n",
        "\n",
        "- Useful for removing duplicates from a list.\n",
        "\n",
        "- Helps in checking unique elements.\n",
        "\n",
        "- Makes set operations (like union, intersection) faster and cleaner\n",
        "\n",
        "for exp:-     \n",
        "              \n",
        "               my_list = [1, 2, 2, 3, 4, 4, 5]\n",
        "                unique_values = set(my_list)\n",
        "              print(unique_values)\n",
        "              \n",
        "               # Output: {1, 2, 3, 4, 5}\n",
        "\n"
      ],
      "metadata": {
        "id": "whpI57Np_zAj"
      }
    },
    {
      "cell_type": "markdown",
      "source": [
        "Que:14. How does the “in” keyword work differently for lists and dictionaries?\n",
        "\n",
        "Ans:- Lists and Dictionaries in Python are inbuilt data structures that are used to store data. Lists are linear in nature whereas dictionaries stored the data in key-value pairs. In this article, we will see the difference between the two and find out the time complexities and space complexities which arises when we try to store data and try to perform certain operations on them.\n",
        "\n",
        "\n",
        "1. in with Lists:-\n",
        "\n",
        "                fruits = [\"apple\", \"banana\", \"mango\"]\n",
        "\n",
        "                \n",
        "              print(\"banana\" in fruits)\n",
        "              print(\"grape\" in fruits)\n",
        "\n",
        "2. in with Dictionaries:-\n",
        "\n",
        "              person = {\"name\": \"Amit\", \"age\": 25}\n",
        "\n",
        "              print(\"name\" in person)   \n",
        "              print(25 in person)\n",
        "\n",
        "Suggestion:-\n",
        "\n",
        "- in with lists → checks if an item/value is present.\n",
        "\n",
        "- in with dictionaries → checks if a key is present (not value).\n",
        "\n",
        "- For checking values in a dictionary, use .values()\n",
        "\n",
        "- Let me know if you want examples in Hindi, or some practice questions! 😊\n",
        "\n",
        "\n",
        "\n",
        "\n",
        "\n",
        "\n",
        "\n",
        "\n",
        "\n"
      ],
      "metadata": {
        "id": "r1DIIC88ynuP"
      }
    },
    {
      "cell_type": "markdown",
      "source": [
        "Que:15. Can you modify the elements of a tuple? Explain why or why not ?\n",
        "\n",
        "Ans:- You can not directly modify the element of a tuple in python after it's been created. tuple are immutable, meaning their contant can not be change once they are defined\n",
        "\n",
        "- Tuples in Python are immutable, meaning once created, their contents cannot be changed.\n",
        "\n",
        "Why tuples are immutable:\n",
        "\n",
        "- Data protection: Prevents accidental changes.\n",
        "\n",
        "- Faster and memory-efficient than lists.\n",
        "\n",
        "- Can be used as dictionary keys (because they're hashable).\n",
        "\n",
        "How to \"modify\" a tuple (or create a modified version):\n",
        "\n",
        "1. Convert to a list:\n",
        "Convert the tuple to a mutable list, make changes to the list, and then convert the list back to a tuple.\n",
        "\n",
        "2. Slicing and concatenation:\n",
        "Create a new tuple by combining portions of the original tuple with new elements.\n",
        "3. Using NamedTuple:\n",
        "If you need a way to \"modify\" certain elements of a tuple-like object, consider using NamedTuple\n",
        "For exp:-       \n",
        "                 t = (1, 2, 3)\n",
        "                  t[0] = 10  \n",
        "\n",
        "              TypeError: 'tuple' object does not support item assignment\n",
        "\n",
        "\n",
        "\n",
        "\n",
        "\n",
        "\n"
      ],
      "metadata": {
        "id": "p0EegWIh0Fah"
      }
    },
    {
      "cell_type": "markdown",
      "source": [
        "**Que:16.**  What is a nested dictionary, and give an example of its use case\n",
        "\n",
        "**Ans:-**  A nested dictionary in Python is a dictionary where the values       \n",
        "           are themselves dictionaries.\n",
        "\n",
        "- In Python, a nested dictionary is a dictionary inside a dictionary. It's a collection of dictionaries into one single dictionary.\n",
        "\n",
        "  Here, the nested_dict is a nested dictionary with the dictionary dictA and dictB. They are two dictionary each having own key and value.\n",
        "\n",
        "**  Example 1: How to create a nested dictionary:-**\n",
        "\n",
        "people = {1: {'name': 'John', 'age': '27', 'sex': 'Male'},\n",
        "          2: {'name': 'Marie', 'age': '22', 'sex': 'Female'}}\n",
        "\n",
        "          print(people)\n",
        "\n",
        "        {1: {'name': 'John', 'age': '27', 'sex': 'Male'},\n",
        "        2: {'name': 'Marie', 'age': '22', 'sex': 'Female'}}\n",
        "\n",
        "  In the above program, people is a nested dictionary. The internal dictionary 1 and 2 is assigned to people. Here, both the dictionary have key name, age , sex with different values. Now, we print the result of people\n",
        "\n"
      ],
      "metadata": {
        "id": "RurvfrK4mZaY"
      }
    },
    {
      "cell_type": "markdown",
      "source": [
        "**Que:17.** Describe the time complexity of accessing elements in a dictionary?\n",
        "\n",
        "**Ans:-** Time Complexities of Python Dictionary.\n",
        "\n",
        "dictionaries provide a fast and efficient way to store and retrieve data using key value pair so understanding the time complexities of dictionary operations is very important for optimizing performance in our programs.\n",
        "\n",
        "**Accessing Elements by Key (O(1))**\n",
        "\n",
        "The time complexity of retrieving a value by its key in a dictionary is O(1). This is because dictionaries use a hash table internally which allows constant time lookup.\n",
        "\n",
        "          # Create a dictionary\n",
        "            dict = {'a': 1, 'b': 2, 'c': 3}\n",
        "          # Access value by key\n",
        "                  val = dict['b']\n",
        "                  print(val)\n",
        "\n"
      ],
      "metadata": {
        "id": "qyE5w2z2zeI7"
      }
    },
    {
      "cell_type": "markdown",
      "source": [
        "Que:18. In what situations are lists preferred over dictionaries?\n",
        "\n",
        "\n",
        "Ans:- The situations are lists preferred over dictionaries\n",
        "for ordered collections and sequence operations, such as maintaining a stack or queue.\n",
        "\n",
        "**When are Lists Preferred Over Dictionaries**\n",
        "\n",
        "**1. Order matters:-**\n",
        "    Lists maintain the order of elements.\n",
        "Dictionaries (before Python 3.7) did not guarantee order.\n",
        "\n",
        "          steps = [\"turn on\", \"heat\", \"cook\", \"serve\"]\n",
        "\n",
        "**2.You only need values (no key-value pairs):-**\n",
        "  Use lists when you don't need to label or name your items.\n",
        "\n",
        "        colors = [\"red\", \"blue\", \"green\"]\n",
        "        colors = [\"red\", \"blue\", \"green\"]\n",
        "\n",
        "**3. You want indexed access:**\n",
        "Lists let you access items by position/index (like list[0], list[1]).\n",
        "\n",
        "                  names = [\"Amit\", \"Neha\", \"Raj\"]\n",
        "                        print(names[1])  # Neha\n",
        "\n",
        "**4. You need to store duplicate values:-**\n",
        "Lists allow duplicates, dictionaries do not allow duplicate keys.\n",
        "\n",
        "                    numbers = [1, 2, 2, 3, 3, 3]  # Valid in list\n",
        "\n",
        "\n",
        "\n",
        "\n",
        "\n",
        "\n"
      ],
      "metadata": {
        "id": "xU_9eETP02FW"
      }
    },
    {
      "cell_type": "markdown",
      "source": [
        "Que:19. Why are dictionaries considered unordered, and how does that affect  \n",
        "        data retrieval?\n",
        "\n",
        "ANs:- Unordered Data Structures\n",
        "An unordered data structure does not preserve the order of elements. Elements in such structures are stored in an unpredictable sequence. These data structures are often used when you need to ensure uniqueness of elements or require fast membership tests.\n",
        "\n",
        "Examples of Unordered Data Structures:\n",
        "\n",
        "Set: An unordered collection of unique elements. Does not allow duplicates.\n",
        "frozenset: An immutable version of a set.\n",
        "Dictionary (dict): Although dictionaries preserve insertion order starting from Python 3.7, their keys are unordered, meaning you cannot index or slice them like ordered structures.\n",
        "\n",
        "\n",
        "                  # Set Example\n",
        "                s = {1, 2, 3, 4, 5}\n",
        "                s.add(6)  # Add an element\n",
        "                print(s)\n",
        "\n",
        "                {1, 2, 3, 4, 5, 6}"
      ],
      "metadata": {
        "id": "CIUiAWCi4Eqk"
      }
    },
    {
      "cell_type": "markdown",
      "source": [
        "**Que:20.** Explain the difference between a list and a dictionary in terms of data retrieval.\n",
        "\n",
        "\n",
        "**Ans:-** In terms of data retrieval, a dictionary excels at quickly accessing values using unique keys, while a list retrieves values based on their position (index) in a sequence. Lists require searching through elements, while dictionaries use hashing for near-instantaneous lookup, making them significantly faster for accessing data by a specific identifier.\n",
        "\n",
        "**Difference between a List and a Dictionary**\n",
        "\n",
        "**List :-**\n",
        "\n",
        "- The list is a collection of index value pairs like ArrayList in Java and Vectors in C++.\n",
        "\n",
        "- The list is created by placing elements in [ ] separated by commas “, “\n",
        "\n",
        "- The indices of the list are integers starting from 0.\n",
        "\n",
        "- The elements are accessed via indices.\n",
        "\n",
        "- The order of the elements entered is maintained.\n",
        "\n",
        "- Lists can duplicate values since each values have unique index.\n",
        "\n",
        "**Dictionary** :-\n",
        "\n",
        "- The dictionary is a hashed structure of the key and value pairs.\n",
        "- The dictionary is created by placing elements in { } as “key”:”value”, each key-value pair is separated by commas “, “\n",
        "\n",
        "- The keys of the dictionary can be of any immutable data type.\n",
        "\n",
        "- The elements are accessed via key.\n",
        "\n",
        "- They are unordered in python 3.6 and below and are ordered in python 3.7 and above.\n",
        "\n",
        "\n"
      ],
      "metadata": {
        "id": "c19jwMvjagIH"
      }
    },
    {
      "cell_type": "code",
      "source": [
        "# Write a code to create a string with your name and print it?\n",
        "\n",
        "name = \"lokesh\"\n",
        "print(name)\n",
        "\n",
        "\n",
        "\n",
        "\n",
        "\n"
      ],
      "metadata": {
        "colab": {
          "base_uri": "https://localhost:8080/"
        },
        "id": "nl-e9PxpcVOk",
        "outputId": "72e980ab-b990-458d-b2cb-fd55a680b345"
      },
      "execution_count": 2,
      "outputs": [
        {
          "output_type": "stream",
          "name": "stdout",
          "text": [
            "lokesh\n"
          ]
        }
      ]
    },
    {
      "cell_type": "code",
      "source": [
        " # Write a code to find the length of the string \"Hello World\"?\n",
        "\n",
        "text = \"Hello World\"\n",
        "length = len(text)\n",
        "print(\"Length of the string:\", length)\n",
        "\n"
      ],
      "metadata": {
        "colab": {
          "base_uri": "https://localhost:8080/"
        },
        "id": "254YpmoXd18B",
        "outputId": "ea02e5e7-cc9e-4ae2-b259-d4e0adf887ee"
      },
      "execution_count": 3,
      "outputs": [
        {
          "output_type": "stream",
          "name": "stdout",
          "text": [
            "Length of the string: 11\n"
          ]
        }
      ]
    },
    {
      "cell_type": "markdown",
      "source": [],
      "metadata": {
        "id": "nK7dTgqdyGlG"
      }
    },
    {
      "cell_type": "code",
      "source": [
        "# Write a code to slice the first 3 characters from the string \"Python\n",
        "# Programming\"?\n",
        "\n",
        "string = \"Python Programming\"\n",
        "sliced_string = string[:3]\n",
        "print(sliced_string)"
      ],
      "metadata": {
        "colab": {
          "base_uri": "https://localhost:8080/"
        },
        "id": "aCmoPHXreuS_",
        "outputId": "2caee433-8792-4e49-e92b-ba269422953a"
      },
      "execution_count": 4,
      "outputs": [
        {
          "output_type": "stream",
          "name": "stdout",
          "text": [
            "Pyt\n"
          ]
        }
      ]
    },
    {
      "cell_type": "code",
      "source": [
        "# Write a code to convert the string \"hello\" to uppercase?\n",
        "\n",
        "string = \"hello\"\n",
        "uppercase_string = string.upper()\n",
        "print(uppercase_string)\n"
      ],
      "metadata": {
        "colab": {
          "base_uri": "https://localhost:8080/"
        },
        "id": "VWNiKLvoevj8",
        "outputId": "6f0198ab-0d64-43c6-d269-66f148cf40db"
      },
      "execution_count": 5,
      "outputs": [
        {
          "output_type": "stream",
          "name": "stdout",
          "text": [
            "HELLO\n"
          ]
        }
      ]
    },
    {
      "cell_type": "code",
      "source": [
        "#Write a code to replace the word \"apple\" with \"orange\" in the string \"I like apple\"?\n",
        "\n",
        "\n",
        "text = \"i like apple \"\n",
        "new_text = text.replace(\"apple\", \"orange\")\n",
        "print(new_text)"
      ],
      "metadata": {
        "colab": {
          "base_uri": "https://localhost:8080/"
        },
        "id": "JYROFqAQfvsl",
        "outputId": "2b96f010-f32e-43fd-c114-05e6b46d25f8"
      },
      "execution_count": 12,
      "outputs": [
        {
          "output_type": "stream",
          "name": "stdout",
          "text": [
            "i like orange \n"
          ]
        }
      ]
    },
    {
      "cell_type": "code",
      "source": [
        "#Write a code to create a list with numbers 1 to 5 and print it?\n",
        "\n",
        "numbers = [1, 2, 3, 4, 5]\n",
        "print(numbers)\n"
      ],
      "metadata": {
        "colab": {
          "base_uri": "https://localhost:8080/"
        },
        "id": "GfD25HjXgVVS",
        "outputId": "f0dac5d6-682f-4cc8-fca2-bead4af56d08"
      },
      "execution_count": 8,
      "outputs": [
        {
          "output_type": "stream",
          "name": "stdout",
          "text": [
            "[1, 2, 3, 4, 5]\n"
          ]
        }
      ]
    },
    {
      "cell_type": "code",
      "source": [
        "#Write a code to append the number 10 to the list [1, 2, 3, 4]?\n",
        "\n",
        "numbers = [1, 2, 3, 4]\n",
        "numbers.append(10)\n",
        "print(numbers)\n"
      ],
      "metadata": {
        "colab": {
          "base_uri": "https://localhost:8080/"
        },
        "id": "ilR3FCm-g1Ha",
        "outputId": "fd5d4fd5-17e9-46b5-a665-fdd2cd9cc978"
      },
      "execution_count": 9,
      "outputs": [
        {
          "output_type": "stream",
          "name": "stdout",
          "text": [
            "[1, 2, 3, 4, 10]\n"
          ]
        }
      ]
    },
    {
      "cell_type": "code",
      "source": [
        "#Write a code to remove the number 3 from the list [1, 2, 3, 4, 5]?\n",
        "\n",
        "numbers = [1, 2, 3, 4, 5]\n",
        "numbers.remove(3)\n",
        "print(numbers)\n"
      ],
      "metadata": {
        "colab": {
          "base_uri": "https://localhost:8080/"
        },
        "id": "a36w5e9hhaA5",
        "outputId": "1ce035c1-56ef-4234-9dc4-1b52ab8d20cb"
      },
      "execution_count": 10,
      "outputs": [
        {
          "output_type": "stream",
          "name": "stdout",
          "text": [
            "[1, 2, 4, 5]\n"
          ]
        }
      ]
    },
    {
      "cell_type": "code",
      "source": [
        "#Write a code to access the second element in the list ['a', 'b', 'c', 'd']\n",
        "\n",
        "my_list = ['a', 'b', 'c', 'd']\n",
        "second_element = my_list[1]\n",
        "print(second_element)\n"
      ],
      "metadata": {
        "colab": {
          "base_uri": "https://localhost:8080/"
        },
        "id": "6llk3I7Vhs2H",
        "outputId": "65768b6f-07aa-4092-df7d-8913b3470c4f"
      },
      "execution_count": 11,
      "outputs": [
        {
          "output_type": "stream",
          "name": "stdout",
          "text": [
            "b\n"
          ]
        }
      ]
    },
    {
      "cell_type": "code",
      "source": [
        "# Write a code to reverse the list [10, 20, 30, 40, 50].?\n",
        "\n",
        "my_list = [10, 20, 30, 40, 50]\n",
        "my_list.reverse()\n",
        "print(my_list)\n"
      ],
      "metadata": {
        "colab": {
          "base_uri": "https://localhost:8080/"
        },
        "id": "x-ObegfEiJGV",
        "outputId": "6b069a62-0123-4dfe-f5b4-4088fb26b46c"
      },
      "execution_count": 13,
      "outputs": [
        {
          "output_type": "stream",
          "name": "stdout",
          "text": [
            "[50, 40, 30, 20, 10]\n"
          ]
        }
      ]
    },
    {
      "cell_type": "code",
      "source": [],
      "metadata": {
        "id": "EZSf-Y8yjCFU"
      },
      "execution_count": null,
      "outputs": []
    }
  ]
}